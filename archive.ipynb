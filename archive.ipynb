{
 "cells": [
  {
   "cell_type": "code",
   "execution_count": 3,
   "id": "23a1ca85",
   "metadata": {},
   "outputs": [
    {
     "name": "stdout",
     "output_type": "stream",
     "text": [
      "Extracted Folders: ['test', 'new plant diseases dataset(augmented)', 'New Plant Diseases Dataset(Augmented)']\n"
     ]
    }
   ],
   "source": [
    "import zipfile\n",
    "import os\n",
    "\n",
    "# Replace 'your_archive.zip' with the actual name of your zip file\n",
    "zip_file_path = 'archive (3).zip'\n",
    "\n",
    "# Replace 'your_extraction_folder' with the desired folder where you want to extract the contents\n",
    "extraction_folder = 'plant'\n",
    "\n",
    "# Create the extraction folder if it doesn't exist\n",
    "os.makedirs(extraction_folder, exist_ok=True)\n",
    "\n",
    "# Open the zip file\n",
    "with zipfile.ZipFile(zip_file_path, 'r') as zip_ref:\n",
    "    # Extract all contents to the specified folder\n",
    "    zip_ref.extractall(extraction_folder)\n",
    "\n",
    "# List the extracted folders\n",
    "extracted_folders = [f for f in os.listdir(extraction_folder) if os.path.isdir(os.path.join(extraction_folder, f))]\n",
    "print(\"Extracted Folders:\", extracted_folders)\n"
   ]
  },
  {
   "cell_type": "code",
   "execution_count": null,
   "id": "8d1ea2b8",
   "metadata": {},
   "outputs": [],
   "source": []
  }
 ],
 "metadata": {
  "kernelspec": {
   "display_name": "Python 3 (ipykernel)",
   "language": "python",
   "name": "python3"
  },
  "language_info": {
   "codemirror_mode": {
    "name": "ipython",
    "version": 3
   },
   "file_extension": ".py",
   "mimetype": "text/x-python",
   "name": "python",
   "nbconvert_exporter": "python",
   "pygments_lexer": "ipython3",
   "version": "3.10.12"
  }
 },
 "nbformat": 4,
 "nbformat_minor": 5
}
